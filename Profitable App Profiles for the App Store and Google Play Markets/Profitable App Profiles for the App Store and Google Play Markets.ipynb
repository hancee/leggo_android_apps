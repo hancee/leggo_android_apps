{
 "cells": [
  {
   "cell_type": "markdown",
   "metadata": {},
   "source": [
    "# Profitable App Profiles for the App Store and Google Play Markets\n",
    "\n",
    "## Phase 1: Business Understanding\n",
    "_The goal of this project is to determine the kind of apps an app development company should focus their efforts on considering various factors such as market share, competition, app genre, and user engagement._\n",
    "\n",
    "---\n",
    "\n",
    "## Phase 2: Data Mining\n",
    "_Finding necessary data to fit the purpose of analysis_\n",
    "\n",
    "### Data sets used\n",
    "_Further information/documentation are available in the source links._\n",
    "* [Android](https://www.kaggle.com/lava18/google-play-store-apps/home) contains data about approximately 10,000 Android apps from Google Play; the data was collected in August 2018.\n",
    "* [iOS](https://www.kaggle.com/ramamet4/app-store-apple-data-set-10k-apps/home) contains data about approximately 7,000 iOS apps from the App Store; the data was collected in July 2017."
   ]
  },
  {
   "cell_type": "code",
   "execution_count": 1,
   "metadata": {
    "collapsed": false
   },
   "outputs": [],
   "source": [
    "from csv import reader\n",
    "\n",
    "### Android data set ###\n",
    "opened_file = open('googleplaystore.csv')\n",
    "read_file = reader(opened_file)\n",
    "android_raw = list(read_file)\n",
    "android_header = android_raw[0]\n",
    "android_data = android_raw[1:]\n",
    "\n",
    "### iOS data set ###\n",
    "opened_file = open('AppleStore.csv')\n",
    "read_file = reader(opened_file)\n",
    "ios_raw = list(read_file)\n",
    "ios_header = ios_raw[0]\n",
    "ios_data = ios_raw[1:]"
   ]
  },
  {
   "cell_type": "code",
   "execution_count": 2,
   "metadata": {
    "collapsed": true
   },
   "outputs": [],
   "source": [
    "def convert_data(dataset, start, end, rows_and_columns=False):\n",
    "    dataset_slice = dataset[start:end]    \n",
    "    for row in dataset_slice:\n",
    "        print(row)\n",
    "        print('\\n')\n",
    "        \n",
    "    if rows_and_columns:\n",
    "        print('Number of rows:', len(dataset))\n",
    "        print('Number of columns:', len(dataset[0]))"
   ]
  },
  {
   "cell_type": "code",
   "execution_count": 3,
   "metadata": {
    "collapsed": false,
    "scrolled": true
   },
   "outputs": [
    {
     "name": "stdout",
     "output_type": "stream",
     "text": [
      "['App', 'Category', 'Rating', 'Reviews', 'Size', 'Installs', 'Type', 'Price', 'Content Rating', 'Genres', 'Last Updated', 'Current Ver', 'Android Ver']\n",
      "\n",
      "\n",
      "['Photo Editor & Candy Camera & Grid & ScrapBook', 'ART_AND_DESIGN', '4.1', '159', '19M', '10,000+', 'Free', '0', 'Everyone', 'Art & Design', 'January 7, 2018', '1.0.0', '4.0.3 and up']\n",
      "\n",
      "\n",
      "Number of rows: 10841\n",
      "Number of columns: 13\n"
     ]
    }
   ],
   "source": [
    "### Android preview ###\n",
    "print(android_header)\n",
    "print('\\n')\n",
    "convert_data(android_data, 0, 1, True)"
   ]
  },
  {
   "cell_type": "code",
   "execution_count": 4,
   "metadata": {
    "collapsed": false
   },
   "outputs": [
    {
     "name": "stdout",
     "output_type": "stream",
     "text": [
      "['id', 'track_name', 'size_bytes', 'currency', 'price', 'rating_count_tot', 'rating_count_ver', 'user_rating', 'user_rating_ver', 'ver', 'cont_rating', 'prime_genre', 'sup_devices.num', 'ipadSc_urls.num', 'lang.num', 'vpp_lic']\n",
      "\n",
      "\n",
      "['284882215', 'Facebook', '389879808', 'USD', '0.0', '2974676', '212', '3.5', '3.5', '95.0', '4+', 'Social Networking', '37', '1', '29', '1']\n",
      "\n",
      "\n",
      "Number of rows: 7197\n",
      "Number of columns: 16\n"
     ]
    }
   ],
   "source": [
    "### iOS preview ###\n",
    "print(ios_header)\n",
    "print('\\n')\n",
    "convert_data(ios_data, 0, 1, True)"
   ]
  },
  {
   "cell_type": "markdown",
   "metadata": {
    "collapsed": true
   },
   "source": [
    "### Relevant Info Between These Data Sets\n",
    "\n",
    "| Android Index | Android Column | iOS Index | iOS Column |\n",
    "| --- | --- | --- | --- |\n",
    "| 0 | App | 1 | track_name |\n",
    "| 1 | Category | 11 | prime_genre |\n",
    "| 2 | Rating | 7 | user_rating |\n",
    "| 3 | Reviews | 5 | rating_count_tot |\n",
    "| 7 | Price | 4 | price |\n",
    "| 8 | Content Rating | 10 | cont_rating |"
   ]
  },
  {
   "cell_type": "markdown",
   "metadata": {},
   "source": [
    "---\n",
    "\n",
    "## Phase 3: Data Cleaning\n",
    "_Making sure data across the boards are complete and consistent by:_\n",
    "* deleting wrong data\n",
    "* removing duplicates\n",
    "* removing non-english apps\n",
    "* isolating free apps\n",
    "\n",
    "### Deleting Wrong Data"
   ]
  },
  {
   "cell_type": "code",
   "execution_count": 5,
   "metadata": {
    "collapsed": false
   },
   "outputs": [
    {
     "name": "stdout",
     "output_type": "stream",
     "text": [
      "['App', 'Category', 'Rating', 'Reviews', 'Size', 'Installs', 'Type', 'Price', 'Content Rating', 'Genres', 'Last Updated', 'Current Ver', 'Android Ver']\n",
      "['Life Made WI-Fi Touchscreen Photo Frame', '1.9', '19', '3.0M', '1,000+', 'Free', '0', 'Everyone', '', 'February 11, 2018', '1.0.19', '4.0 and up']\n",
      "['osmino Wi-Fi: free WiFi', 'TOOLS', '4.2', '134203', '4.1M', '10,000,000+', 'Free', '0', 'Everyone', 'Tools', 'August 7, 2018', '6.06.14', '4.4 and up']\n"
     ]
    }
   ],
   "source": [
    "print(android_header)\n",
    "print(android_data[10472]) # missing CATEGORY value\n",
    "# del android_data[10472]  <--- converted to comment after running once\n",
    "print(android_data[10472]) # after deletion, new len should be 10840"
   ]
  },
  {
   "cell_type": "markdown",
   "metadata": {
    "collapsed": true
   },
   "source": [
    "### Removing Duplicates"
   ]
  },
  {
   "cell_type": "code",
   "execution_count": 6,
   "metadata": {
    "collapsed": false
   },
   "outputs": [
    {
     "name": "stdout",
     "output_type": "stream",
     "text": [
      "Duplicate android apps:  1181\n",
      "\n",
      "\n",
      "Including:  ['Quick PDF Scanner + OCR FREE', 'Box', 'Google My Business', 'ZOOM Cloud Meetings', 'join.me - Simple Meetings', 'Box', 'Zenefits', 'Google Ads', 'Google My Business', 'Slack']\n"
     ]
    }
   ],
   "source": [
    "### Checking for duplicates in android data ###\n",
    "\n",
    "duplicate_android = []\n",
    "unique_android = []\n",
    "\n",
    "for app in android_data:\n",
    "    name = app[0]\n",
    "    if name in unique_android:\n",
    "        duplicate_android.append(name)\n",
    "    else:\n",
    "        unique_android.append(name)\n",
    "        \n",
    "print('Duplicate android apps: ', len(duplicate_android))\n",
    "print('\\n')\n",
    "print('Including: ', duplicate_android[:10])\n",
    "\n",
    "### Keeping only duplicate with the most reviews\n",
    "n_reviews_max = {} # starts with an empty dictionary\n",
    "for app in android_data:\n",
    "    name = app[0]\n",
    "    n_reviews = float(app[3])\n",
    "    if name in n_reviews_max and n_reviews_max[name] < n_reviews:\n",
    "        n_reviews_max[name] = n_reviews # if the current n_reviews_max is less, we change the value\n",
    "    elif name not in n_reviews_max:\n",
    "        n_reviews_max[name] = n_reviews # otherwise, we add a new key-value pair"
   ]
  },
  {
   "cell_type": "markdown",
   "metadata": {},
   "source": [
    "We expect there to be 1181 duplicates. So after deleting entries, the **new len of android_data should be 9659** (previous len minus duplicates)."
   ]
  },
  {
   "cell_type": "code",
   "execution_count": 7,
   "metadata": {
    "collapsed": false
   },
   "outputs": [
    {
     "data": {
      "text/plain": [
       "9659"
      ]
     },
     "execution_count": 7,
     "metadata": {},
     "output_type": "execute_result"
    }
   ],
   "source": [
    "len(n_reviews_max)"
   ]
  },
  {
   "cell_type": "code",
   "execution_count": 8,
   "metadata": {
    "collapsed": false
   },
   "outputs": [
    {
     "name": "stdout",
     "output_type": "stream",
     "text": [
      "len of android_data: 10840\n",
      "len of android_clean:  9659\n",
      "number of entries removed:  1181\n"
     ]
    }
   ],
   "source": [
    "### Isolating android data to a new data set\n",
    "\n",
    "android_clean = [] # stores new cleaned data set\n",
    "android_already_added = [] # only store app names\n",
    "\n",
    "for app in android_data:\n",
    "    name = app[0]\n",
    "    n_reviews = float(app[3])\n",
    "    \n",
    "    if (n_reviews_max[name] == n_reviews) and (name not in android_already_added):\n",
    "        android_clean.append(app)\n",
    "        android_already_added.append(app[0])\n",
    "        \n",
    "print('len of android_data:', len(android_data))\n",
    "print('len of android_clean: ', len(android_clean))\n",
    "print('number of entries removed: ', len(android_data) - len(android_clean))\n"
   ]
  },
  {
   "cell_type": "code",
   "execution_count": 9,
   "metadata": {
    "collapsed": false
   },
   "outputs": [
    {
     "name": "stdout",
     "output_type": "stream",
     "text": [
      "Duplicate ios apps:  2\n",
      "\n",
      "\n",
      "Including:  ['Mannequin Challenge', 'VR Roller Coaster']\n"
     ]
    }
   ],
   "source": [
    "### Checking for duplicates in ios data ###\n",
    "\n",
    "duplicate_ios = []\n",
    "unique_ios = []\n",
    "\n",
    "for app in ios_data:\n",
    "    name = app[1]\n",
    "    if name in unique_ios:\n",
    "        duplicate_ios.append(name)\n",
    "    else:\n",
    "        unique_ios.append(name)\n",
    "        \n",
    "print('Duplicate ios apps: ', len(duplicate_ios))\n",
    "print('\\n')\n",
    "print('Including: ', duplicate_ios[:10])\n",
    "\n",
    "### Keeping only duplicate with the most reviews\n",
    "n_reviews_max_ios = {} # starts with an empty dictionary\n",
    "for app in ios_data:\n",
    "    name = app[1]\n",
    "    n_reviews = float(app[5])\n",
    "    if name in n_reviews_max_ios and n_reviews_max_ios[name] < n_reviews:\n",
    "        n_reviews_max_ios[name] = n_reviews # if the current n_reviews_max is less, we change the value\n",
    "    elif name not in n_reviews_max_ios:\n",
    "        n_reviews_max_ios[name] = n_reviews # otherwise, we add a new key-value pair"
   ]
  },
  {
   "cell_type": "markdown",
   "metadata": {},
   "source": [
    "We expect there to be 2 duplicates. So after deleting entries, the **new len of ios_data should be 7195** (previous len minus duplicates)."
   ]
  },
  {
   "cell_type": "code",
   "execution_count": 10,
   "metadata": {
    "collapsed": false
   },
   "outputs": [
    {
     "data": {
      "text/plain": [
       "7195"
      ]
     },
     "execution_count": 10,
     "metadata": {},
     "output_type": "execute_result"
    }
   ],
   "source": [
    "len(n_reviews_max_ios)"
   ]
  },
  {
   "cell_type": "code",
   "execution_count": 11,
   "metadata": {
    "collapsed": false
   },
   "outputs": [
    {
     "name": "stdout",
     "output_type": "stream",
     "text": [
      "len of ios_data: 7197\n",
      "len of ios_clean:  7195\n",
      "number of entries removed:  2\n"
     ]
    }
   ],
   "source": [
    "### Isolating ios data to a new data set\n",
    "\n",
    "ios_clean = [] # stores new cleaned data set\n",
    "ios_already_added = [] # only store app names\n",
    "\n",
    "for app in ios_data:\n",
    "    name = app[1]\n",
    "    n_reviews = float(app[5])\n",
    "    \n",
    "    if (n_reviews_max_ios[name] == n_reviews) and (name not in ios_already_added):\n",
    "        ios_clean.append(app)\n",
    "        ios_already_added.append(app[1])\n",
    "        \n",
    "print('len of ios_data:', len(ios_data))\n",
    "print('len of ios_clean: ', len(ios_clean))\n",
    "print('number of entries removed: ', len(ios_data) - len(ios_clean))"
   ]
  },
  {
   "cell_type": "markdown",
   "metadata": {},
   "source": [
    "Now, we have a separate and clean data sets called `android_clean` and `ios_clean`. We did this by following these steps:\n",
    "1. Checking for duplicates\n",
    "2. Getting duplicates with the most reviews\n",
    "3. Isolating the apps we need in new data sets:\n",
    "    * unique apps\n",
    "    * duplicates with most reviews\n",
    "4. Validating that we have to correct and expected len for both data sets\n",
    "\n",
    "### Removing non-English apps\n",
    "We develop apps directed for English-speaking audience so there's no need to include in both data sets apps that are not targeted to the same audience.\n",
    "\n",
    "Characters that are not typically used in English text can be isolated by using the `ord(character)` function. Originally based on the English alphabet, ASCII encodes __128 specified characters (slice :127)__ into seven-bit integers as shown by the ASCII chart below:\n",
    "\n",
    "<img src=\"https://upload.wikimedia.org/wikipedia/commons/thumb/c/cf/USASCII_code_chart.png/361px-USASCII_code_chart.png\" alt=\"Alt text that describes the graphic\" title=\"Title text\" />\n",
    "\n",
    "We will create a function called `is_this_english(string)` that will take a string and returns the bool `True` or `False` based on whether there are characters that suggest the app is not directed for English-speaking audience."
   ]
  },
  {
   "cell_type": "code",
   "execution_count": 12,
   "metadata": {
    "collapsed": false
   },
   "outputs": [
    {
     "data": {
      "text/plain": [
       "False"
      ]
     },
     "execution_count": 12,
     "metadata": {},
     "output_type": "execute_result"
    }
   ],
   "source": [
    "### Creating the is_this_english function ###\n",
    "# this will return False only if there are more than 3 characters\n",
    "# within the string classified as non_ascii\n",
    "\n",
    "def is_english(string):\n",
    "    non_ascii = 0\n",
    "    \n",
    "    for char in string:\n",
    "        if ord(char) > 127:\n",
    "            non_ascii += 1\n",
    "            \n",
    "    if non_ascii > 3:\n",
    "        return False\n",
    "    else:\n",
    "        return True\n",
    "\n",
    "is_english('爱奇艺PPS -《欢乐颂2》电视剧热播') # test for is_english function"
   ]
  },
  {
   "cell_type": "code",
   "execution_count": 13,
   "metadata": {
    "collapsed": false
   },
   "outputs": [
    {
     "name": "stdout",
     "output_type": "stream",
     "text": [
      "len of android_clean: 9659\n",
      "len of android_english:  9614\n",
      "number of entries removed:  45\n",
      "\n",
      "\n",
      "len of ios_clean: 7195\n",
      "len of ios_english:  6181\n",
      "number of entries removed:  1014\n"
     ]
    }
   ],
   "source": [
    "android_english = []\n",
    "for app in android_clean:\n",
    "    if is_english(app[0]):\n",
    "        android_english.append(app)\n",
    "\n",
    "print('len of android_clean:', len(android_clean))\n",
    "print('len of android_english: ', len(android_english))\n",
    "print('number of entries removed: ', len(android_clean) - len(android_english))\n",
    "        \n",
    "ios_english = []\n",
    "for app in ios_clean:\n",
    "    if is_english(app[1]):\n",
    "        ios_english.append(app)\n",
    "\n",
    "print('\\n')\n",
    "print('len of ios_clean:', len(ios_clean))\n",
    "print('len of ios_english: ', len(ios_english))\n",
    "print('number of entries removed: ', len(ios_clean) - len(ios_english))"
   ]
  },
  {
   "cell_type": "markdown",
   "metadata": {
    "collapsed": true
   },
   "source": [
    "### Isolating free apps\n",
    "We will to this by looping through the price columns in both data sets: `android_english[app][7]` and `ios_english[app][4]`."
   ]
  },
  {
   "cell_type": "code",
   "execution_count": 14,
   "metadata": {
    "collapsed": false
   },
   "outputs": [
    {
     "name": "stdout",
     "output_type": "stream",
     "text": [
      "len of android_english:  9614\n",
      "len of android_free: 8864\n",
      "number of entries removed:  750\n"
     ]
    }
   ],
   "source": [
    "### Isolating free apps on android ###\n",
    "\n",
    "android_free = []\n",
    "\n",
    "for app in android_english:\n",
    "    price = app[7]\n",
    "    if price == '0':\n",
    "        android_free.append(app)\n",
    "        \n",
    "print('len of android_english: ', len(android_english))\n",
    "print('len of android_free:', len(android_free))\n",
    "print('number of entries removed: ', len(android_english) - len(android_free))"
   ]
  },
  {
   "cell_type": "code",
   "execution_count": 15,
   "metadata": {
    "collapsed": false
   },
   "outputs": [
    {
     "name": "stdout",
     "output_type": "stream",
     "text": [
      "len of ios_english:  6181\n",
      "len of ios_free: 3220\n",
      "number of entries removed:  2961\n"
     ]
    }
   ],
   "source": [
    "### Isolating free apps on ios ###\n",
    "\n",
    "ios_free = []\n",
    "\n",
    "for app in ios_english:\n",
    "    price = app[4]\n",
    "    if price == '0.0':\n",
    "        ios_free.append(app)\n",
    "        \n",
    "print('len of ios_english: ', len(ios_english))\n",
    "print('len of ios_free:', len(ios_free))\n",
    "print('number of entries removed: ', len(ios_english) - len(ios_free))"
   ]
  },
  {
   "cell_type": "markdown",
   "metadata": {},
   "source": [
    "### Clean up funnel\n",
    "\n",
    "| Derived list | Android | iOS |\n",
    "| --- | --- |\n",
    "| _data | 10841 | 7197 |\n",
    "| (remove wrong data) | 10840 | 7197 |\n",
    "| _clean | 9659 | 7195 |\n",
    "| _english | 9614 | 6191 |\n",
    "| _free | 8864 | 3220 |\n",
    "\n",
    "---\n",
    "\n",
    "## Phase 4: Data Exploration\n",
    "_Form hypothesis to answer what kind of apps we should be building_\n",
    "\n",
    "### Validation strategy\n",
    "To minimize risks and overhead, our validation strategy for an app idea is comprised of three steps:\n",
    "\n",
    "1. Build a minimal Android version of the app, and add it to Google Play.\n",
    "2. If the app has a good response from users, we develop it further.\n",
    "3. If the app is profitable after six months, we build an iOS version of the app and add it to the App Store.\n",
    "\n",
    "### Ways to explore data\n",
    "1. Most common overall genres by number of apps - _what kind of apps do people look for?_\n",
    "2. Most engaging genres by number of reviews - _what do users use and care about?_\n",
    "3. Most common apps per recommended genre - _what specific apps can we look into?_"
   ]
  },
  {
   "cell_type": "code",
   "execution_count": 16,
   "metadata": {
    "collapsed": true
   },
   "outputs": [],
   "source": [
    "### Most common overall genres by number of apps ###\n",
    "def freq_table(dataset, index):\n",
    "    table = {}\n",
    "    total = 0\n",
    "    \n",
    "    for app in dataset:\n",
    "        total += 1\n",
    "        value = app[index]\n",
    "        if value in table:\n",
    "            table[value] += 1\n",
    "        else:\n",
    "            table[value] = 1\n",
    "    \n",
    "    table_percentages = {}\n",
    "    for value in table:\n",
    "        percentage = (table[value] / total) * 100\n",
    "        table_percentages[value] = percentage \n",
    "    \n",
    "    return table_percentages\n",
    "\n",
    "def display_table(dataset, index):\n",
    "    table = freq_table(dataset, index)\n",
    "    table_display = []\n",
    "    for key in table:\n",
    "        key_val_as_tuple = (table[key], key)\n",
    "        table_display.append(key_val_as_tuple)\n",
    "\n",
    "    table_sorted = sorted(table_display, reverse = True)\n",
    "    for entry in table_sorted:\n",
    "        print(entry[1], ':', entry[0])"
   ]
  },
  {
   "cell_type": "code",
   "execution_count": 17,
   "metadata": {
    "collapsed": false
   },
   "outputs": [
    {
     "name": "stdout",
     "output_type": "stream",
     "text": [
      "FAMILY : 18.907942238267147\n",
      "GAME : 9.724729241877256\n",
      "TOOLS : 8.461191335740072\n",
      "BUSINESS : 4.591606498194946\n",
      "LIFESTYLE : 3.9034296028880866\n",
      "PRODUCTIVITY : 3.892148014440433\n",
      "FINANCE : 3.7003610108303246\n",
      "MEDICAL : 3.531137184115524\n",
      "SPORTS : 3.395758122743682\n",
      "PERSONALIZATION : 3.3167870036101084\n",
      "COMMUNICATION : 3.2378158844765346\n",
      "HEALTH_AND_FITNESS : 3.0798736462093865\n",
      "PHOTOGRAPHY : 2.944494584837545\n",
      "NEWS_AND_MAGAZINES : 2.7978339350180503\n",
      "SOCIAL : 2.6624548736462095\n",
      "TRAVEL_AND_LOCAL : 2.33528880866426\n",
      "SHOPPING : 2.2450361010830324\n",
      "BOOKS_AND_REFERENCE : 2.1435018050541514\n",
      "DATING : 1.861462093862816\n",
      "VIDEO_PLAYERS : 1.7937725631768955\n",
      "MAPS_AND_NAVIGATION : 1.3989169675090252\n",
      "FOOD_AND_DRINK : 1.2409747292418771\n",
      "EDUCATION : 1.1620036101083033\n",
      "ENTERTAINMENT : 0.9589350180505415\n",
      "LIBRARIES_AND_DEMO : 0.9363718411552346\n",
      "AUTO_AND_VEHICLES : 0.9250902527075812\n",
      "HOUSE_AND_HOME : 0.8235559566787004\n",
      "WEATHER : 0.8009927797833934\n",
      "EVENTS : 0.7107400722021661\n",
      "PARENTING : 0.6543321299638989\n",
      "ART_AND_DESIGN : 0.6430505415162455\n",
      "COMICS : 0.6204873646209386\n",
      "BEAUTY : 0.5979241877256317\n"
     ]
    }
   ],
   "source": [
    "android_genre = display_table(android_free, 1)"
   ]
  },
  {
   "cell_type": "code",
   "execution_count": 18,
   "metadata": {
    "collapsed": false
   },
   "outputs": [
    {
     "name": "stdout",
     "output_type": "stream",
     "text": [
      "Games : 58.13664596273293\n",
      "Entertainment : 7.888198757763975\n",
      "Photo & Video : 4.968944099378882\n",
      "Education : 3.6645962732919255\n",
      "Social Networking : 3.291925465838509\n",
      "Shopping : 2.608695652173913\n",
      "Utilities : 2.515527950310559\n",
      "Sports : 2.142857142857143\n",
      "Music : 2.049689440993789\n",
      "Health & Fitness : 2.018633540372671\n",
      "Productivity : 1.7391304347826086\n",
      "Lifestyle : 1.5838509316770186\n",
      "News : 1.3354037267080745\n",
      "Travel : 1.2422360248447204\n",
      "Finance : 1.1180124223602486\n",
      "Weather : 0.8695652173913043\n",
      "Food & Drink : 0.8074534161490683\n",
      "Reference : 0.5590062111801243\n",
      "Business : 0.5279503105590062\n",
      "Book : 0.43478260869565216\n",
      "Navigation : 0.18633540372670807\n",
      "Medical : 0.18633540372670807\n",
      "Catalogs : 0.12422360248447205\n"
     ]
    }
   ],
   "source": [
    "ios_genre = display_table(ios_free, 11)"
   ]
  },
  {
   "cell_type": "markdown",
   "metadata": {},
   "source": [
    "__iOS App Store is dominated by leisure apps__ with GAMES taking up more than half of the pie (58.14%). Combining it with other categories related to leisure such as ENTERTAINMENT, LIFESTYLE, TRAVEL, FOOD & DRINK (61.77%), the remaining 38.23% is shared by more practical categories including EDUCATION, PRODUCTIVITY, and BUSINESS.\n",
    "\n",
    "__Google Play has a more balanced landscape__ with FAMILY, GAMES, and TOOLS being most common. However, the differences are less pronounced than they are in iOS App Store."
   ]
  },
  {
   "cell_type": "code",
   "execution_count": 19,
   "metadata": {
    "collapsed": false
   },
   "outputs": [
    {
     "name": "stdout",
     "output_type": "stream",
     "text": [
      "Most reviewed Android Apps\n",
      "\n",
      "\n",
      "MEDICAL : 3730.1533546325877\n",
      "VIDEO_PLAYERS : 425350.08176100627\n",
      "PERSONALIZATION : 181122.31632653062\n",
      "PRODUCTIVITY : 160634.5420289855\n",
      "SHOPPING : 223887.34673366835\n",
      "FAMILY : 113142.99821002387\n",
      "BUSINESS : 24239.727272727272\n",
      "ENTERTAINMENT : 301752.24705882353\n",
      "FOOD_AND_DRINK : 57478.79090909091\n",
      "ART_AND_DESIGN : 24699.42105263158\n",
      "EDUCATION : 56293.09708737864\n",
      "MAPS_AND_NAVIGATION : 142860.0483870968\n",
      "LIBRARIES_AND_DEMO : 10925.807228915663\n",
      "WEATHER : 171250.77464788733\n",
      "FINANCE : 38535.8993902439\n",
      "PARENTING : 16378.706896551725\n",
      "EVENTS : 2555.84126984127\n",
      "PHOTOGRAPHY : 404081.3754789272\n",
      "TOOLS : 305732.8973333333\n",
      "NEWS_AND_MAGAZINES : 93088.03225806452\n",
      "DATING : 21953.272727272728\n",
      "COMMUNICATION : 995608.4634146341\n",
      "BEAUTY : 7476.226415094339\n",
      "HEALTH_AND_FITNESS : 78094.9706959707\n",
      "SPORTS : 116938.6146179402\n",
      "COMICS : 42585.61818181818\n",
      "SOCIAL : 965830.9872881356\n",
      "GAME : 683523.8445475638\n",
      "AUTO_AND_VEHICLES : 14140.280487804877\n",
      "BOOKS_AND_REFERENCE : 87995.06842105264\n",
      "TRAVEL_AND_LOCAL : 129484.42512077295\n",
      "LIFESTYLE : 33921.82369942196\n",
      "HOUSE_AND_HOME : 26435.465753424658\n",
      "\n",
      "\n",
      "Most reviewed iOS Apps\n",
      "\n",
      "\n",
      "Navigation : 86090.33333333333\n",
      "Health & Fitness : 23298.015384615384\n",
      "News : 21248.023255813954\n",
      "Finance : 31467.944444444445\n",
      "Business : 7491.117647058823\n",
      "Lifestyle : 16485.764705882353\n",
      "Music : 57326.530303030304\n",
      "Shopping : 26919.690476190477\n",
      "Food & Drink : 33333.92307692308\n",
      "Catalogs : 4004.0\n",
      "Utilities : 18684.456790123455\n",
      "Reference : 74942.11111111111\n",
      "Photo & Video : 28441.54375\n",
      "Medical : 612.0\n",
      "Productivity : 21028.410714285714\n",
      "Book : 39758.5\n",
      "Weather : 52279.892857142855\n",
      "Travel : 28243.8\n",
      "Social Networking : 71548.34905660378\n",
      "Sports : 23008.898550724636\n",
      "Entertainment : 14029.830708661417\n",
      "Education : 7003.983050847458\n",
      "Games : 22812.92467948718\n"
     ]
    }
   ],
   "source": [
    "### Most engaging genres by number of reviews ###\n",
    "\n",
    "print('Most reviewed Android Apps')\n",
    "print('\\n')\n",
    "for genre in freq_table(android_free, 1):\n",
    "    total = 0\n",
    "    len_genre = 0\n",
    "    for app in android_free:\n",
    "        genre_app = app[1]\n",
    "        if genre_app == genre:            \n",
    "            n_ratings = float(app[3])\n",
    "            total += n_ratings\n",
    "            len_genre += 1\n",
    "    avg_n_ratings = total / len_genre\n",
    "    print(genre, ':', avg_n_ratings)\n",
    "\n",
    "print('\\n')\n",
    "print('Most reviewed iOS Apps')\n",
    "print('\\n')\n",
    "    \n",
    "for genre in freq_table(ios_free, 11):\n",
    "    total = 0\n",
    "    len_genre = 0\n",
    "    for app in ios_free:\n",
    "        genre_app = app[11]\n",
    "        if genre_app == genre:            \n",
    "            n_ratings = float(app[5])\n",
    "            total += n_ratings\n",
    "            len_genre += 1\n",
    "    avg_n_ratings = total / len_genre\n",
    "    print(genre, ':', avg_n_ratings)"
   ]
  },
  {
   "cell_type": "markdown",
   "metadata": {},
   "source": [
    "### Most Rated Android Genre \n",
    "_We will focus our development efforts on Android. Higher reward across the board than iOS (downloads, competition, user engagement)._\n",
    "1. COMMUNICATION : 995608.4634146341\n",
    "2. SOCIAL : 965830.9872881356\n",
    "3. GAME : 683523.8445475638 **also among with the most apps**\n",
    "4. VIDEO_PLAYERS : 425350.081761006\n",
    "5. PHOTOGRAPHY : 404081.3754789272 **category with fewer apps but more invested users**\n",
    "6. TOOLS : 305732.8973333333 **moderate number of apps and good engagement**\n",
    "7. ENTERTAINMENT : 301752.24705882353\n",
    "8. SHOPPING : 223887.34673366835\n",
    "9. PERSONALIZATION : 181122.31632653062\n",
    "10. WEATHER : 171250.77464788733\n",
    "11. PRODUCTIVITY : 160634.542028985527\n",
    "12. MAPS_AND_NAVIGATION : 142860.0483870968\n",
    "\n",
    "### Most Rated iOS Genre \n",
    "1. Navigation : 86090.33333333333\n",
    "2. Reference : 74942.11111111111\n",
    "3. Social Networking : 71548.34905660378\n",
    "4. Music : 57326.530303030304 **good competition and engagement**\n",
    "5. Weather : 52279.892857142855\n",
    "6. Book : 39758.5\n",
    "7. Food & Drink : 33333.92307692308\n",
    "8. Finance : 31467.944444444445\n",
    "9. Photo & Video : 28441.54375\n",
    "10. Travel : 28243.8\n",
    "11. Shopping : 26919.690476190477\n",
    "12. Health & Fitness : 23298.015384615384"
   ]
  },
  {
   "cell_type": "code",
   "execution_count": 20,
   "metadata": {
    "collapsed": false
   },
   "outputs": [
    {
     "name": "stdout",
     "output_type": "stream",
     "text": [
      "Most reviewed Android GAME apps\n",
      "Candy Crush Saga : 22430188\n",
      "Subway Surfers : 27725352\n",
      "Clash Royale : 23136735\n",
      "Clash of Clans : 44893888\n",
      "\n",
      "\n",
      "Most reviewed Android PHOTOGRAPHY apps\n",
      "B612 - Beauty & Filter Camera : 5282578\n",
      "Google Photos : 10859051\n",
      "Retrica : 6120977\n",
      "PicsArt Photo Studio: Collage Maker & Pic Editor : 7594559\n",
      "PhotoGrid: Video & Pic Collage Maker, Photo Editor : 7529865\n"
     ]
    }
   ],
   "source": [
    "### Most common apps per recommended genre ###\n",
    "\n",
    "print('Most reviewed Android GAME apps')\n",
    "for app in android_free:\n",
    "    genre = app[1]\n",
    "    n_ratings = float(app[3])\n",
    "    if genre == 'GAME' and n_ratings > 20000000:\n",
    "        print(app[0], ':', app[3])\n",
    "        \n",
    "print('\\n')\n",
    "\n",
    "print('Most reviewed Android PHOTOGRAPHY apps')\n",
    "for app in android_free:\n",
    "    genre = app[1]\n",
    "    n_ratings = float(app[3])\n",
    "    if genre == 'PHOTOGRAPHY' and n_ratings > 5000000:\n",
    "        print(app[0], ':', app[3])"
   ]
  },
  {
   "cell_type": "markdown",
   "metadata": {},
   "source": [
    "---\n",
    "\n",
    "## Phase 5: Insights\n",
    "\n",
    "### Recommended App Profiles to Generate Profit\n",
    "\n",
    "#### GAMES\n",
    "* High competition\n",
    "* Enough people who are interested and engaged (in terms of leaving feedback)\n",
    "* Ads can be put strategically (to earn extra life, power up, or currency within the game)\n",
    "    * in-your-face ads - while the next game loads\n",
    "    * user-activated ads - reward user behavior\n",
    "* Digital product (vs SHOPPING apps that have engagement but also demands a lot of offline work)\n",
    "\n",
    "#### PHOTOGRAPHY\n",
    "* Less competition\n",
    "* High engagement from users\n",
    "* Ads can be put strategically\n",
    "    * limited edition/ bonus stickers/filters\n",
    "* Digital product (everything is in the app)\n",
    "\n",
    "<br>\n",
    "\n",
    "<div class=\"alert alert-block alert-info\">\n",
    "<b>Note:</b> The results between Android and iOS apps have marked differences in terms of categories. Because Android still has a dominant worldwide market share of 74.85% by April 2019, we decided to focus our development efforts on leading Android categories. \n",
    "\n",
    "<br>\n",
    "\n",
    "Since <b>GAMES</b> and <b>PHOTOGRAPHY</b> are social apps-- meaning users can be very public about the specific apps they use, we can park our iOS development efforts until their active users actually express their interest in joining the bandwagon.\n",
    "</div>"
   ]
  }
 ],
 "metadata": {
  "kernelspec": {
   "display_name": "Python 3",
   "language": "python",
   "name": "python3"
  },
  "language_info": {
   "codemirror_mode": {
    "name": "ipython",
    "version": 3
   },
   "file_extension": ".py",
   "mimetype": "text/x-python",
   "name": "python",
   "nbconvert_exporter": "python",
   "pygments_lexer": "ipython3",
   "version": "3.4.3"
  }
 },
 "nbformat": 4,
 "nbformat_minor": 2
}
