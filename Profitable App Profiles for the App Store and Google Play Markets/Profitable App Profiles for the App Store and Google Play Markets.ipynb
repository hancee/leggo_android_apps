{
 "cells": [
  {
   "cell_type": "markdown",
   "metadata": {},
   "source": [
    "# Profitable App Profiles for the App Store and Google Play Markets\n",
    "\n",
    "## Phase 1: Business Understanding\n",
    "_The goal of this project is to determine the kind of apps an app development company should focus their efforts on considering various factors such as market share, competition, app genre, and user engagement._\n",
    "\n",
    "---\n",
    "\n",
    "## Phase 2: Data Mining\n",
    "_Finding necessary data to fit the purpose of analysis_\n",
    "\n",
    "### Data sets used\n",
    "_Further information/documentation are available in the source links._\n",
    "* [Android](https://www.kaggle.com/lava18/google-play-store-apps/home) contains data about approximately 10,000 Android apps from Google Play; the data was collected in August 2018.\n",
    "* [iOS](https://www.kaggle.com/ramamet4/app-store-apple-data-set-10k-apps/home) contains data about approximately 7,000 iOS apps from the App Store; the data was collected in July 2017."
   ]
  },
  {
   "cell_type": "code",
   "execution_count": 1,
   "metadata": {},
   "outputs": [],
   "source": [
    "from csv import reader\n",
    "\n",
    "### Android data set ###\n",
    "opened_file = open('googleplaystore.csv')\n",
    "read_file = reader(opened_file)\n",
    "android_raw = list(read_file)\n",
    "android_header = android_raw[0]\n",
    "android_data = android_raw[1:]\n",
    "\n",
    "### iOS data set ###\n",
    "opened_file = open('AppleStore.csv')\n",
    "read_file = reader(opened_file)\n",
    "ios_raw = list(read_file)\n",
    "ios_header = ios_raw[0]\n",
    "ios_data = ios_raw[1:]"
   ]
  },
  {
   "cell_type": "code",
   "execution_count": 2,
   "metadata": {},
   "outputs": [],
   "source": [
    "def convert_data(dataset, start, end, rows_and_columns=False):\n",
    "    dataset_slice = dataset[start:end]    \n",
    "    for row in dataset_slice:\n",
    "        print(row)\n",
    "        print('\\n')\n",
    "        \n",
    "    if rows_and_columns:\n",
    "        print('Number of rows:', len(dataset))\n",
    "        print('Number of columns:', len(dataset[0]))"
   ]
  },
  {
   "cell_type": "code",
   "execution_count": 3,
   "metadata": {
    "scrolled": true
   },
   "outputs": [
    {
     "name": "stdout",
     "output_type": "stream",
     "text": [
      "['App', 'Category', 'Rating', 'Reviews', 'Size', 'Installs', 'Type', 'Price', 'Content Rating', 'Genres', 'Last Updated', 'Current Ver', 'Android Ver']\n",
      "\n",
      "\n",
      "['Photo Editor & Candy Camera & Grid & ScrapBook', 'ART_AND_DESIGN', '4.1', '159', '19M', '10,000+', 'Free', '0', 'Everyone', 'Art & Design', 'January 7, 2018', '1.0.0', '4.0.3 and up']\n",
      "\n",
      "\n",
      "('Number of rows:', 10841)\n",
      "('Number of columns:', 13)\n"
     ]
    }
   ],
   "source": [
    "### Android preview ###\n",
    "print(android_header)\n",
    "print('\\n')\n",
    "convert_data(android_data, 0, 1, True)"
   ]
  },
  {
   "cell_type": "code",
   "execution_count": 4,
   "metadata": {},
   "outputs": [
    {
     "name": "stdout",
     "output_type": "stream",
     "text": [
      "['', 'id', 'track_name', 'size_bytes', 'currency', 'price', 'rating_count_tot', 'rating_count_ver', 'user_rating', 'user_rating_ver', 'ver', 'cont_rating', 'prime_genre', 'sup_devices.num', 'ipadSc_urls.num', 'lang.num', 'vpp_lic']\n",
      "\n",
      "\n",
      "['1', '281656475', 'PAC-MAN Premium', '100788224', 'USD', '3.99', '21292', '26', '4', '4.5', '6.3.5', '4+', 'Games', '38', '5', '10', '1']\n",
      "\n",
      "\n",
      "('Number of rows:', 7197)\n",
      "('Number of columns:', 17)\n"
     ]
    }
   ],
   "source": [
    "### iOS preview ###\n",
    "print(ios_header)\n",
    "print('\\n')\n",
    "convert_data(ios_data, 0, 1, True)"
   ]
  },
  {
   "cell_type": "markdown",
   "metadata": {
    "collapsed": true
   },
   "source": [
    "### Relevant Info Between These Data Sets\n",
    "\n",
    "| Android Index | Android Column | iOS Index | iOS Column |\n",
    "| --- | --- | --- | --- |\n",
    "| 0 | App | 1 | track_name |\n",
    "| 1 | Category | 11 | prime_genre |\n",
    "| 2 | Rating | 7 | user_rating |\n",
    "| 3 | Reviews | 5 | rating_count_tot |\n",
    "| 7 | Price | 4 | price |"
   ]
  },
  {
   "cell_type": "markdown",
   "metadata": {},
   "source": [
    "---\n",
    "\n",
    "## Phase 3: Data Cleaning\n",
    "_Making sure data across the boards are complete and consistent by:_\n",
    "* deleting wrong data\n",
    "* removing duplicates\n",
    "* removing non-english apps\n",
    "* isolating free apps\n",
    "\n",
    "### Deleting Wrong Data"
   ]
  },
  {
   "cell_type": "code",
   "execution_count": 5,
   "metadata": {},
   "outputs": [
    {
     "name": "stdout",
     "output_type": "stream",
     "text": [
      "['App', 'Category', 'Rating', 'Reviews', 'Size', 'Installs', 'Type', 'Price', 'Content Rating', 'Genres', 'Last Updated', 'Current Ver', 'Android Ver']\n",
      "['Life Made WI-Fi Touchscreen Photo Frame', '1.9', '19', '3.0M', '1,000+', 'Free', '0', 'Everyone', '', 'February 11, 2018', '1.0.19', '4.0 and up']\n",
      "['osmino Wi-Fi: free WiFi', 'TOOLS', '4.2', '134203', '4.1M', '10,000,000+', 'Free', '0', 'Everyone', 'Tools', 'August 7, 2018', '6.06.14', '4.4 and up']\n"
     ]
    }
   ],
   "source": [
    "print(android_header)\n",
    "print(android_data[10472]) # missing CATEGORY value\n",
    "#del android_data[10472]  <--- converted to comment after running once\n",
    "print(android_data[10472]) # after deletion, new len should be 10840"
   ]
  },
  {
   "cell_type": "markdown",
   "metadata": {
    "collapsed": true
   },
   "source": [
    "### Removing Duplicates"
   ]
  },
  {
   "cell_type": "code",
   "execution_count": 6,
   "metadata": {},
   "outputs": [
    {
     "name": "stdout",
     "output_type": "stream",
     "text": [
      "('Duplicate android apps: ', 1181)\n",
      "\n",
      "\n",
      "('Including: ', ['Quick PDF Scanner + OCR FREE', 'Box', 'Google My Business', 'ZOOM Cloud Meetings', 'join.me - Simple Meetings', 'Box', 'Zenefits', 'Google Ads', 'Google My Business', 'Slack'])\n"
     ]
    }
   ],
   "source": [
    "### Checking for duplicates in android data ###\n",
    "\n",
    "duplicate_android = []\n",
    "unique_android = []\n",
    "\n",
    "for app in android_data:\n",
    "    name = app[0]\n",
    "    if name in unique_android:\n",
    "        duplicate_android.append(name)\n",
    "    else:\n",
    "        unique_android.append(name)\n",
    "        \n",
    "print('Duplicate android apps: ', len(duplicate_android))\n",
    "print('\\n')\n",
    "print('Including: ', duplicate_android[:10])\n",
    "\n",
    "### Keeping only duplicate with the most reviews\n",
    "n_reviews_max = {} # starts with an empty dictionary\n",
    "for app in android_data:\n",
    "    name = app[0]\n",
    "    n_reviews = float(app[3])\n",
    "    if name in n_reviews_max and n_reviews_max[name] < n_reviews:\n",
    "        n_reviews_max[name] = n_reviews # if the current n_reviews_max is less, we change the value\n",
    "    elif name not in n_reviews_max:\n",
    "        n_reviews_max[name] = n_reviews # otherwise, we add a new key-value pair"
   ]
  },
  {
   "cell_type": "markdown",
   "metadata": {},
   "source": [
    "We expect there to be 1181 duplicates. So after deleting entries, the **new len of android_data should be 9659** (previous len minus duplicates)."
   ]
  },
  {
   "cell_type": "code",
   "execution_count": 7,
   "metadata": {},
   "outputs": [
    {
     "data": {
      "text/plain": [
       "9659"
      ]
     },
     "execution_count": 7,
     "metadata": {},
     "output_type": "execute_result"
    }
   ],
   "source": [
    "len(n_reviews_max)"
   ]
  },
  {
   "cell_type": "code",
   "execution_count": 8,
   "metadata": {},
   "outputs": [
    {
     "name": "stdout",
     "output_type": "stream",
     "text": [
      "('len of android_data:', 10840)\n",
      "('len of android_clean: ', 9659)\n",
      "('number of entries removed: ', 1181)\n"
     ]
    }
   ],
   "source": [
    "### Isolating android data to a new data set\n",
    "\n",
    "android_clean = [] # stores new cleaned data set\n",
    "android_already_added = [] # only store app names\n",
    "\n",
    "for app in android_data:\n",
    "    name = app[0]\n",
    "    n_reviews = float(app[3])\n",
    "    \n",
    "    if (n_reviews_max[name] == n_reviews) and (name not in android_already_added):\n",
    "        android_clean.append(app)\n",
    "        android_already_added.append(app[0])\n",
    "        \n",
    "print('len of android_data:', len(android_data))\n",
    "print('len of android_clean: ', len(android_clean))\n",
    "print('number of entries removed: ', len(android_data) - len(android_clean))\n"
   ]
  },
  {
   "cell_type": "code",
   "execution_count": 9,
   "metadata": {},
   "outputs": [
    {
     "name": "stdout",
     "output_type": "stream",
     "text": [
      "('Duplicate ios apps: ', 0)\n",
      "\n",
      "\n",
      "('Including: ', [])\n"
     ]
    }
   ],
   "source": [
    "### Checking for duplicates in ios data ###\n",
    "\n",
    "duplicate_ios = []\n",
    "unique_ios = []\n",
    "\n",
    "for app in ios_data:\n",
    "    name = app[1]\n",
    "    if name in unique_ios:\n",
    "        duplicate_ios.append(name)\n",
    "    else:\n",
    "        unique_ios.append(name)\n",
    "        \n",
    "print('Duplicate ios apps: ', len(duplicate_ios))\n",
    "print('\\n')\n",
    "print('Including: ', duplicate_ios[:10])\n",
    "\n",
    "### Keeping only duplicate with the most reviews\n",
    "n_reviews_max_ios = {} # starts with an empty dictionary\n",
    "for app in ios_data:\n",
    "    name = app[1]\n",
    "    n_reviews = float(app[5])\n",
    "    if name in n_reviews_max_ios and n_reviews_max_ios[name] < n_reviews:\n",
    "        n_reviews_max_ios[name] = n_reviews # if the current n_reviews_max is less, we change the value\n",
    "    elif name not in n_reviews_max_ios:\n",
    "        n_reviews_max_ios[name] = n_reviews # otherwise, we add a new key-value pair"
   ]
  },
  {
   "cell_type": "markdown",
   "metadata": {},
   "source": [
    "We expect there to be 2 duplicates. So after deleting entries, the **new len of ios_data should be 7195** (previous len minus duplicates)."
   ]
  },
  {
   "cell_type": "code",
   "execution_count": 10,
   "metadata": {},
   "outputs": [
    {
     "data": {
      "text/plain": [
       "7197"
      ]
     },
     "execution_count": 10,
     "metadata": {},
     "output_type": "execute_result"
    }
   ],
   "source": [
    "len(n_reviews_max_ios)"
   ]
  },
  {
   "cell_type": "code",
   "execution_count": 11,
   "metadata": {},
   "outputs": [
    {
     "name": "stdout",
     "output_type": "stream",
     "text": [
      "('len of ios_data:', 7197)\n",
      "('len of ios_clean: ', 7197)\n",
      "('number of entries removed: ', 0)\n"
     ]
    }
   ],
   "source": [
    "### Isolating ios data to a new data set\n",
    "\n",
    "ios_clean = [] # stores new cleaned data set\n",
    "ios_already_added = [] # only store app names\n",
    "\n",
    "for app in ios_data:\n",
    "    name = app[1]\n",
    "    n_reviews = float(app[5])\n",
    "    \n",
    "    if (n_reviews_max_ios[name] == n_reviews) and (name not in ios_already_added):\n",
    "        ios_clean.append(app)\n",
    "        ios_already_added.append(app[1])\n",
    "        \n",
    "print('len of ios_data:', len(ios_data))\n",
    "print('len of ios_clean: ', len(ios_clean))\n",
    "print('number of entries removed: ', len(ios_data) - len(ios_clean))"
   ]
  },
  {
   "cell_type": "markdown",
   "metadata": {},
   "source": [
    "Now, we have a separate and clean data sets called `android_clean` and `ios_clean`. We did this by following these steps:\n",
    "1. Checking for duplicates\n",
    "2. Getting duplicates with the most reviews\n",
    "3. Isolating the apps we need in new data sets:\n",
    "    * unique apps\n",
    "    * duplicates with most reviews\n",
    "4. Validating that we have to correct and expected len for both data sets\n",
    "\n",
    "### Removing non-English apps\n",
    "We develop apps directed for English-speaking audience so there's no need to include in both data sets apps that are not targeted to the same audience.\n",
    "\n",
    "Characters that are not typically used in English text can be isolated by using the `ord(character)` function. Originally based on the English alphabet, ASCII encodes __128 specified characters (slice :127)__ into seven-bit integers as shown by the ASCII chart below:\n",
    "\n",
    "<img src=\"https://upload.wikimedia.org/wikipedia/commons/thumb/c/cf/USASCII_code_chart.png/361px-USASCII_code_chart.png\" alt=\"Alt text that describes the graphic\" title=\"Title text\" />\n",
    "\n",
    "We will create a function called `is_this_english(string)` that will take a string and returns the bool `True` or `False` based on whether there are characters that suggest the app is not directed for English-speaking audience."
   ]
  },
  {
   "cell_type": "code",
   "execution_count": 12,
   "metadata": {},
   "outputs": [
    {
     "data": {
      "text/plain": [
       "False"
      ]
     },
     "execution_count": 12,
     "metadata": {},
     "output_type": "execute_result"
    }
   ],
   "source": [
    "### Creating the is_this_english function ###\n",
    "# this will return False only if there are more than 3 characters\n",
    "# within the string classified as non_ascii\n",
    "\n",
    "def is_english(string):\n",
    "    non_ascii = 0\n",
    "    \n",
    "    for char in string:\n",
    "        if ord(char) > 127:\n",
    "            non_ascii += 1\n",
    "            \n",
    "    if non_ascii > 3:\n",
    "        return False\n",
    "    else:\n",
    "        return True\n",
    "\n",
    "is_english('爱奇艺PPS -《欢乐颂2》电视剧热播') # test for is_english function"
   ]
  },
  {
   "cell_type": "code",
   "execution_count": 13,
   "metadata": {},
   "outputs": [
    {
     "name": "stdout",
     "output_type": "stream",
     "text": [
      "('len of android_clean:', 9659)\n",
      "('len of android_english: ', 9500)\n",
      "('number of entries removed: ', 159)\n",
      "\n",
      "\n",
      "('len of ios_clean:', 7197)\n",
      "('len of ios_english: ', 7197)\n",
      "('number of entries removed: ', 0)\n"
     ]
    }
   ],
   "source": [
    "android_english = []\n",
    "for app in android_clean:\n",
    "    if is_english(app[0]):\n",
    "        android_english.append(app)\n",
    "\n",
    "print('len of android_clean:', len(android_clean))\n",
    "print('len of android_english: ', len(android_english))\n",
    "print('number of entries removed: ', len(android_clean) - len(android_english))\n",
    "        \n",
    "ios_english = []\n",
    "for app in ios_clean:\n",
    "    if is_english(app[1]):\n",
    "        ios_english.append(app)\n",
    "\n",
    "print('\\n')\n",
    "print('len of ios_clean:', len(ios_clean))\n",
    "print('len of ios_english: ', len(ios_english))\n",
    "print('number of entries removed: ', len(ios_clean) - len(ios_english))"
   ]
  },
  {
   "cell_type": "markdown",
   "metadata": {
    "collapsed": true
   },
   "source": [
    "### Isolating free apps\n",
    "We will to this by looping through the price columns in both data sets: `android_english[app][7]` and `ios_english[app][4]`."
   ]
  },
  {
   "cell_type": "code",
   "execution_count": 14,
   "metadata": {},
   "outputs": [
    {
     "name": "stdout",
     "output_type": "stream",
     "text": [
      "('len of android_english: ', 9500)\n",
      "('len of android_free:', 8760)\n",
      "('number of entries removed: ', 740)\n"
     ]
    }
   ],
   "source": [
    "### Isolating free apps on android ###\n",
    "\n",
    "android_free = []\n",
    "\n",
    "for app in android_english:\n",
    "    price = app[7]\n",
    "    if price == '0':\n",
    "        android_free.append(app)\n",
    "        \n",
    "print('len of android_english: ', len(android_english))\n",
    "print('len of android_free:', len(android_free))\n",
    "print('number of entries removed: ', len(android_english) - len(android_free))"
   ]
  },
  {
   "cell_type": "code",
   "execution_count": 15,
   "metadata": {},
   "outputs": [
    {
     "name": "stdout",
     "output_type": "stream",
     "text": [
      "('len of ios_english: ', 7197)\n",
      "('len of ios_free:', 0)\n",
      "('number of entries removed: ', 7197)\n"
     ]
    }
   ],
   "source": [
    "### Isolating free apps on ios ###\n",
    "\n",
    "ios_free = []\n",
    "\n",
    "for app in ios_english:\n",
    "    price = app[4]\n",
    "    if price == '0.0':\n",
    "        ios_free.append(app)\n",
    "        \n",
    "print('len of ios_english: ', len(ios_english))\n",
    "print('len of ios_free:', len(ios_free))\n",
    "print('number of entries removed: ', len(ios_english) - len(ios_free))"
   ]
  },
  {
   "cell_type": "markdown",
   "metadata": {},
   "source": [
    "### Clean up funnel\n",
    "\n",
    "| Derived list | Android | iOS |\n",
    "| --- | --- |\n",
    "| _data | 10841 | 7197 |\n",
    "| (remove wrong data) | 10840 | 7197 |\n",
    "| _clean | 9659 | 7195 |\n",
    "| _english | 9614 | 6191 |\n",
    "| _free | 8864 | 3220 |\n",
    "\n",
    "---\n",
    "\n",
    "## Phase 4: Data Exploration\n",
    "_Form hypothesis to answer what kind of apps we should be building_\n",
    "\n",
    "### Validation strategy\n",
    "To minimize risks and overhead, our validation strategy for an app idea is comprised of three steps:\n",
    "\n",
    "1. Build a minimal Android version of the app, and add it to Google Play.\n",
    "2. If the app has a good response from users, we develop it further.\n",
    "3. If the app is profitable after six months, we build an iOS version of the app and add it to the App Store.\n",
    "\n",
    "### Ways to explore data\n",
    "1. Most common overall genres by number of apps - _what kind of apps do people look for?_\n",
    "2. Most engaging genres by number of reviews - _what do users use and care about?_\n",
    "3. Most common apps per recommended genre - _what specific apps can we look into?_"
   ]
  },
  {
   "cell_type": "code",
   "execution_count": 16,
   "metadata": {},
   "outputs": [],
   "source": [
    "### Most common overall genres by number of apps ###\n",
    "def freq_table(dataset, index):\n",
    "    table = {}\n",
    "    total = 0\n",
    "    \n",
    "    for app in dataset:\n",
    "        total += 1\n",
    "        value = app[index]\n",
    "        if value in table:\n",
    "            table[value] += 1\n",
    "        else:\n",
    "            table[value] = 1\n",
    "    \n",
    "    table_percentages = {}\n",
    "    for value in table:\n",
    "        percentage = (table[value] / total) * 100\n",
    "        table_percentages[value] = percentage \n",
    "    \n",
    "    return table_percentages\n",
    "\n",
    "def display_table(dataset, index):\n",
    "    table = freq_table(dataset, index)\n",
    "    table_display = []\n",
    "    for key in table:\n",
    "        key_val_as_tuple = (table[key], key)\n",
    "        table_display.append(key_val_as_tuple)\n",
    "\n",
    "    table_sorted = sorted(table_display, reverse = True)\n",
    "    for entry in table_sorted:\n",
    "        print(entry[1], ':', entry[0])"
   ]
  },
  {
   "cell_type": "code",
   "execution_count": 17,
   "metadata": {},
   "outputs": [
    {
     "name": "stdout",
     "output_type": "stream",
     "text": [
      "('WEATHER', ':', 0)\n",
      "('VIDEO_PLAYERS', ':', 0)\n",
      "('TRAVEL_AND_LOCAL', ':', 0)\n",
      "('TOOLS', ':', 0)\n",
      "('SPORTS', ':', 0)\n",
      "('SOCIAL', ':', 0)\n",
      "('SHOPPING', ':', 0)\n",
      "('PRODUCTIVITY', ':', 0)\n",
      "('PHOTOGRAPHY', ':', 0)\n",
      "('PERSONALIZATION', ':', 0)\n",
      "('PARENTING', ':', 0)\n",
      "('NEWS_AND_MAGAZINES', ':', 0)\n",
      "('MEDICAL', ':', 0)\n",
      "('MAPS_AND_NAVIGATION', ':', 0)\n",
      "('LIFESTYLE', ':', 0)\n",
      "('LIBRARIES_AND_DEMO', ':', 0)\n",
      "('HOUSE_AND_HOME', ':', 0)\n",
      "('HEALTH_AND_FITNESS', ':', 0)\n",
      "('GAME', ':', 0)\n",
      "('FOOD_AND_DRINK', ':', 0)\n",
      "('FINANCE', ':', 0)\n",
      "('FAMILY', ':', 0)\n",
      "('EVENTS', ':', 0)\n",
      "('ENTERTAINMENT', ':', 0)\n",
      "('EDUCATION', ':', 0)\n",
      "('DATING', ':', 0)\n",
      "('COMMUNICATION', ':', 0)\n",
      "('COMICS', ':', 0)\n",
      "('BUSINESS', ':', 0)\n",
      "('BOOKS_AND_REFERENCE', ':', 0)\n",
      "('BEAUTY', ':', 0)\n",
      "('AUTO_AND_VEHICLES', ':', 0)\n",
      "('ART_AND_DESIGN', ':', 0)\n"
     ]
    }
   ],
   "source": [
    "android_genre = display_table(android_free, 1)"
   ]
  },
  {
   "cell_type": "code",
   "execution_count": 18,
   "metadata": {},
   "outputs": [],
   "source": [
    "ios_genre = display_table(ios_free, 11)"
   ]
  },
  {
   "cell_type": "markdown",
   "metadata": {},
   "source": [
    "__iOS App Store is dominated by leisure apps__ with GAMES taking up more than half of the pie (58.14%). Combining it with other categories related to leisure such as ENTERTAINMENT, LIFESTYLE, TRAVEL, FOOD & DRINK (61.77%), the remaining 38.23% is shared by more practical categories including EDUCATION, PRODUCTIVITY, and BUSINESS.\n",
    "\n",
    "__Google Play has a more balanced landscape__ with FAMILY, GAMES, and TOOLS being most common. However, the differences are less pronounced than they are in iOS App Store."
   ]
  },
  {
   "cell_type": "code",
   "execution_count": 19,
   "metadata": {},
   "outputs": [
    {
     "name": "stdout",
     "output_type": "stream",
     "text": [
      "Most reviewed Android Apps\n",
      "\n",
      "\n",
      "('LIBRARIES_AND_DEMO', ':', 10564.037974683544)\n",
      "('SHOPPING', ':', 226042.02030456852)\n",
      "('BUSINESS', ':', 24239.727272727272)\n",
      "('ENTERTAINMENT', ':', 305205.71428571426)\n",
      "('MEDICAL', ':', 3753.2861736334407)\n",
      "('MAPS_AND_NAVIGATION', ':', 145978.80991735536)\n",
      "('LIFESTYLE', ':', 34075.09037900875)\n",
      "('GAME', ':', 691572.0271867613)\n",
      "('BOOKS_AND_REFERENCE', ':', 73424.84042553192)\n",
      "('AUTO_AND_VEHICLES', ':', 14217.567901234568)\n",
      "('HOUSE_AND_HOME', ':', 27812.057971014492)\n",
      "('BEAUTY', ':', 7476.226415094339)\n",
      "('COMICS', ':', 45616.98039215686)\n",
      "('PHOTOGRAPHY', ':', 404081.3754789272)\n",
      "('PARENTING', ':', 16913.339285714286)\n",
      "('WEATHER', ':', 175771.34782608695)\n",
      "('ART_AND_DESIGN', ':', 24699.42105263158)\n",
      "('PERSONALIZATION', ':', 182426.62847222222)\n",
      "('DATING', ':', 22207.28834355828)\n",
      "('EVENTS', ':', 2555.84126984127)\n",
      "('FAMILY', ':', 114086.83664858348)\n",
      "('HEALTH_AND_FITNESS', ':', 78671.31365313653)\n",
      "('VIDEO_PLAYERS', ':', 427904.43670886074)\n",
      "('FINANCE', ':', 37600.61042944785)\n",
      "('PRODUCTIVITY', ':', 160634.5420289855)\n",
      "('COMMUNICATION', ':', 993784.2070175438)\n",
      "('TRAVEL_AND_LOCAL', ':', 130746.04390243902)\n",
      "('SPORTS', ':', 120526.44178082192)\n",
      "('SOCIAL', ':', 982038.4870689656)\n",
      "('EDUCATION', ':', 56293.09708737864)\n",
      "('TOOLS', ':', 308586.64602960966)\n",
      "('NEWS_AND_MAGAZINES', ':', 93841.61788617886)\n",
      "('FOOD_AND_DRINK', ':', 58482.88888888889)\n",
      "\n",
      "\n",
      "Most reviewed iOS Apps\n",
      "\n",
      "\n"
     ]
    }
   ],
   "source": [
    "### Most engaging genres by number of reviews ###\n",
    "\n",
    "print('Most reviewed Android Apps')\n",
    "print('\\n')\n",
    "for genre in freq_table(android_free, 1):\n",
    "    total = 0\n",
    "    len_genre = 0\n",
    "    for app in android_free:\n",
    "        genre_app = app[1]\n",
    "        if genre_app == genre:            \n",
    "            n_ratings = float(app[3])\n",
    "            total += n_ratings\n",
    "            len_genre += 1\n",
    "    avg_n_ratings = total / len_genre\n",
    "    print(genre, ':', avg_n_ratings)\n",
    "\n",
    "print('\\n')\n",
    "print('Most reviewed iOS Apps')\n",
    "print('\\n')\n",
    "    \n",
    "for genre in freq_table(ios_free, 11):\n",
    "    total = 0\n",
    "    len_genre = 0\n",
    "    for app in ios_free:\n",
    "        genre_app = app[11]\n",
    "        if genre_app == genre:            \n",
    "            n_ratings = float(app[5])\n",
    "            total += n_ratings\n",
    "            len_genre += 1\n",
    "    avg_n_ratings = total / len_genre\n",
    "    print(genre, ':', avg_n_ratings)"
   ]
  },
  {
   "cell_type": "markdown",
   "metadata": {},
   "source": [
    "### Most Rated Android Genre \n",
    "_We will focus our development efforts on Android. Higher reward across the board than iOS (downloads, competition, user engagement)._\n",
    "1. COMMUNICATION : 995608.4634146341\n",
    "2. SOCIAL : 965830.9872881356\n",
    "3. GAME : 683523.8445475638 **also among with the most apps**\n",
    "4. VIDEO_PLAYERS : 425350.081761006\n",
    "5. PHOTOGRAPHY : 404081.3754789272 **category with fewer apps but more invested users**\n",
    "6. TOOLS : 305732.8973333333 **moderate number of apps and good engagement**\n",
    "7. ENTERTAINMENT : 301752.24705882353\n",
    "8. SHOPPING : 223887.34673366835\n",
    "9. PERSONALIZATION : 181122.31632653062\n",
    "10. WEATHER : 171250.77464788733\n",
    "11. PRODUCTIVITY : 160634.542028985527\n",
    "12. MAPS_AND_NAVIGATION : 142860.0483870968\n",
    "\n",
    "### Most Rated iOS Genre \n",
    "1. Navigation : 86090.33333333333\n",
    "2. Reference : 74942.11111111111\n",
    "3. Social Networking : 71548.34905660378\n",
    "4. Music : 57326.530303030304 **good competition and engagement**\n",
    "5. Weather : 52279.892857142855\n",
    "6. Book : 39758.5\n",
    "7. Food & Drink : 33333.92307692308\n",
    "8. Finance : 31467.944444444445\n",
    "9. Photo & Video : 28441.54375\n",
    "10. Travel : 28243.8\n",
    "11. Shopping : 26919.690476190477\n",
    "12. Health & Fitness : 23298.015384615384"
   ]
  },
  {
   "cell_type": "code",
   "execution_count": 20,
   "metadata": {},
   "outputs": [
    {
     "name": "stdout",
     "output_type": "stream",
     "text": [
      "Most reviewed Android GAME apps\n",
      "('Candy Crush Saga', ':', '22430188')\n",
      "('Subway Surfers', ':', '27725352')\n",
      "('Clash Royale', ':', '23136735')\n",
      "('Clash of Clans', ':', '44893888')\n",
      "\n",
      "\n",
      "Most reviewed Android PHOTOGRAPHY apps\n",
      "('B612 - Beauty & Filter Camera', ':', '5282578')\n",
      "('Google Photos', ':', '10859051')\n",
      "('Retrica', ':', '6120977')\n",
      "('PicsArt Photo Studio: Collage Maker & Pic Editor', ':', '7594559')\n",
      "('PhotoGrid: Video & Pic Collage Maker, Photo Editor', ':', '7529865')\n"
     ]
    }
   ],
   "source": [
    "### Most common apps per recommended genre ###\n",
    "\n",
    "print('Most reviewed Android GAME apps')\n",
    "for app in android_free:\n",
    "    genre = app[1]\n",
    "    n_ratings = float(app[3])\n",
    "    if genre == 'GAME' and n_ratings > 20000000:\n",
    "        print(app[0], ':', app[3])\n",
    "        \n",
    "print('\\n')\n",
    "\n",
    "print('Most reviewed Android PHOTOGRAPHY apps')\n",
    "for app in android_free:\n",
    "    genre = app[1]\n",
    "    n_ratings = float(app[3])\n",
    "    if genre == 'PHOTOGRAPHY' and n_ratings > 5000000:\n",
    "        print(app[0], ':', app[3])"
   ]
  },
  {
   "cell_type": "markdown",
   "metadata": {},
   "source": [
    "---\n",
    "\n",
    "## Phase 5: Insights\n",
    "\n",
    "### Recommended App Profiles to Generate Profit\n",
    "\n",
    "#### GAMES\n",
    "* High competition\n",
    "* Enough people who are interested and engaged (in terms of leaving feedback)\n",
    "* Ads can be put strategically (to earn extra life, power up, or currency within the game)\n",
    "    * in-your-face ads - while the next game loads\n",
    "    * user-activated ads - reward user behavior\n",
    "* Digital product (vs SHOPPING apps that have engagement but also demands a lot of offline work)\n",
    "\n",
    "#### PHOTOGRAPHY\n",
    "* Less competition\n",
    "* High engagement from users\n",
    "* Ads can be put strategically\n",
    "    * limited edition/ bonus stickers/filters\n",
    "* Digital product (everything is in the app)\n",
    "\n",
    "<br>\n",
    "\n",
    "<div class=\"alert alert-block alert-info\">\n",
    "<b>Note:</b> The results between Android and iOS apps have marked differences in terms of categories. Because Android still has a dominant worldwide market share of 74.85% by April 2019, we decided to focus our development efforts on leading Android categories. \n",
    "\n",
    "<br>\n",
    "\n",
    "Since <b>GAMES</b> and <b>PHOTOGRAPHY</b> are social apps-- meaning users can be very public about the specific apps they use, we can park our iOS development efforts until their active users actually express their interest in joining the bandwagon.\n",
    "</div>"
   ]
  }
 ],
 "metadata": {
  "kernelspec": {
   "display_name": "Python 2",
   "language": "python",
   "name": "python2"
  },
  "language_info": {
   "codemirror_mode": {
    "name": "ipython",
    "version": 2
   },
   "file_extension": ".py",
   "mimetype": "text/x-python",
   "name": "python",
   "nbconvert_exporter": "python",
   "pygments_lexer": "ipython2",
   "version": "2.7.16"
  }
 },
 "nbformat": 4,
 "nbformat_minor": 2
}
